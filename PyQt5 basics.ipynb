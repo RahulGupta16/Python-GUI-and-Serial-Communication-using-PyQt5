{
 "cells": [
  {
   "cell_type": "markdown",
   "metadata": {},
   "source": [
    "# Basics"
   ]
  },
  {
   "cell_type": "markdown",
   "metadata": {},
   "source": [
    "PyQt is a python framework used for designing GUI applications instantly."
   ]
  },
  {
   "cell_type": "code",
   "execution_count": 5,
   "metadata": {},
   "outputs": [
    {
     "name": "stdout",
     "output_type": "stream",
     "text": [
      "Collecting p2j\n",
      "  Downloading p2j-1.3.2-py3-none-any.whl (19 kB)\n",
      "Installing collected packages: p2j\n",
      "Successfully installed p2j-1.3.2\n"
     ]
    }
   ],
   "source": [
    "!pip install p2j"
   ]
  },
  {
   "cell_type": "code",
   "execution_count": 1,
   "metadata": {},
   "outputs": [
    {
     "ename": "SystemExit",
     "evalue": "0",
     "output_type": "error",
     "traceback": [
      "An exception has occurred, use %tb to see the full traceback.\n",
      "\u001b[1;31mSystemExit\u001b[0m\u001b[1;31m:\u001b[0m 0\n"
     ]
    },
    {
     "name": "stderr",
     "output_type": "stream",
     "text": [
      "C:\\ProgramData\\Anaconda3\\lib\\site-packages\\IPython\\core\\interactiveshell.py:3339: UserWarning: To exit: use 'exit', 'quit', or Ctrl-D.\n",
      "  warn(\"To exit: use 'exit', 'quit', or Ctrl-D.\", stacklevel=1)\n"
     ]
    }
   ],
   "source": [
    "from PyQt5 import QtWidgets\n",
    "from PyQt5.QtWidgets import QApplication, QMainWindow\n",
    "import sys\n",
    "\n",
    "class window1(QMainWindow):\n",
    "    def __init__(self):\n",
    "        super(window1,self).__init__()\n",
    "        self.setGeometry(500,200,500,300)        # self -> QMainWindow  ,   \n",
    "        self.setWindowTitle(\"First Window\")  \n",
    "        self.UI()\n",
    "        \n",
    "    def UI(self):\n",
    "        self.label1 = QtWidgets.QLabel(self)            \n",
    "        self.label2 = QtWidgets.QLabel(self)\n",
    "        self.label3 = QtWidgets.QLabel(self)            \n",
    "        self.label4 = QtWidgets.QLabel(self)\n",
    "        self.label5 = QtWidgets.QLabel(self)\n",
    "\n",
    "        self.label1.setText(\"First content\")            \n",
    "        self.label1.move(7,30)\n",
    "        self.label2.setText(\"Second content\")            \n",
    "        self.label2.move(7,60)\n",
    "        self.label3.setText(\"Third content\")            \n",
    "        self.label3.move(7,90)\n",
    "        self.label4.setText(\"Fourth content\")            \n",
    "        self.label4.move(7,120)\n",
    "       # self.label5.setText('Refresh the content')\n",
    "       # self.label5.move(100,240)\n",
    "\n",
    "        self.push_but1 = QtWidgets.QPushButton(self)\n",
    "        self.push_but1.setText('Click Button1')\n",
    "        self.push_but1.move(100,30)\n",
    "        self.push_but2 = QtWidgets.QPushButton(self)\n",
    "        self.push_but2.setText('Click Button2')\n",
    "        self.push_but2.move(100,60)\n",
    "        self.push_but3 = QtWidgets.QPushButton(self)\n",
    "        self.push_but3.setText('Click Button3')\n",
    "        self.push_but3.move(100,90)\n",
    "        self.push_but4 = QtWidgets.QPushButton(self)\n",
    "        self.push_but4.setText('Click Button4')\n",
    "        self.push_but4.move(100,120)\n",
    "        self.push_but5 = QtWidgets.QPushButton(self)\n",
    "        self.push_but5.setText('Refresh')\n",
    "        self.push_but5.move(200,240)\n",
    "\n",
    "\n",
    "        self.push_but1.clicked.connect(self.event1)         # Click operation to be done on push button\n",
    "        self.push_but2.clicked.connect(self.event2)\n",
    "        self.push_but3.clicked.connect(self.event3)\n",
    "        self.push_but4.clicked.connect(self.event4)\n",
    "        self.push_but5.clicked.connect(self.event5)\n",
    "\n",
    "\n",
    "    def event1(self):\n",
    "        self.label1.setText(\"You clicked 1\")\n",
    "    def event2(self):\n",
    "        self.label2.setText(\"You clicked 2\")\n",
    "    def event3(self):\n",
    "        self.label3.setText(\"You clicked 3\")\n",
    "    def event4(self):\n",
    "        self.label4.setText(\"You clicked 4\")\n",
    "    def event5(self):\n",
    "        self.label1.setText(\"First Content\")\n",
    "        self.label2.setText(\"Second Content\")\n",
    "        self.label3.setText(\"Third Content\")\n",
    "        self.label4.setText(\"Fourth Content\")\n",
    "\n",
    "\n",
    "\n",
    "        \n",
    "        \n",
    "def display():\n",
    "    app = QApplication(sys.argv)\n",
    "    win = window1()                         \n",
    "    win.show()                                  \n",
    "    sys.exit(app.exec_())                       \n",
    "\n",
    "display()"
   ]
  },
  {
   "cell_type": "code",
   "execution_count": 8,
   "metadata": {},
   "outputs": [
    {
     "ename": "SystemExit",
     "evalue": "0",
     "output_type": "error",
     "traceback": [
      "An exception has occurred, use %tb to see the full traceback.\n",
      "\u001b[1;31mSystemExit\u001b[0m\u001b[1;31m:\u001b[0m 0\n"
     ]
    }
   ],
   "source": [
    "def event():\n",
    "    print('Clicked')\n",
    "\n",
    "def window():\n",
    "    app = QApplication(sys.argv)\n",
    "    win = QMainWindow()                         #Set the main window\n",
    "    win.setGeometry(500,200,500,300)            #Set the size of main window\n",
    "    win.setWindowTitle(\"First Window\")          #Set the title of main window\n",
    "    \n",
    "    label1 = QtWidgets.QLabel(win)              # Set a single label in the window\n",
    "    label2 = QtWidgets.QLabel(win)              # Add one more label in the same window\n",
    "\n",
    "    label1.setText(\"First content\")             # Text to be written on Label\n",
    "    label1.move(7,75)                           # Position of label within the main window\n",
    "    label2.setText(\"Second content\")            # Another text to be writtem on another label\n",
    "    label2.move(250,75)                         # Position of label within the same main window\n",
    "    \n",
    "    push_but = QtWidgets.QPushButton(win)\n",
    "    push_but.setText('Click Button')\n",
    "    #push_but.adjustSize(20,20)\n",
    "   # push_but.clicked.connect(event)\n",
    "\n",
    "    \n",
    "    win.show()                                  # To display the main window\n",
    "    sys.exit(app.exec_())                       # To shut down the generated main window from that cross icon present in the main generated window\n",
    "    \n",
    "window()                                        # Calling the function"
   ]
  },
  {
   "cell_type": "code",
   "execution_count": null,
   "metadata": {},
   "outputs": [],
   "source": []
  }
 ],
 "metadata": {
  "kernelspec": {
   "display_name": "Python 3",
   "language": "python",
   "name": "python3"
  },
  "language_info": {
   "codemirror_mode": {
    "name": "ipython",
    "version": 3
   },
   "file_extension": ".py",
   "mimetype": "text/x-python",
   "name": "python",
   "nbconvert_exporter": "python",
   "pygments_lexer": "ipython3",
   "version": "3.7.1"
  }
 },
 "nbformat": 4,
 "nbformat_minor": 4
}
